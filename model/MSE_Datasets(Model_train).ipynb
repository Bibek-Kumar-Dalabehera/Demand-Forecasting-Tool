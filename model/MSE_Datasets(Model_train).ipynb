{
 "cells": [
  {
   "cell_type": "markdown",
   "id": "6797ebd2-503d-4a8d-bc47-a96a252f25f9",
   "metadata": {
    "jp-MarkdownHeadingCollapsed": true
   },
   "source": [
    "# MSE Model Training"
   ]
  },
  {
   "cell_type": "code",
   "execution_count": 1,
   "id": "3bfda4ad-d111-46da-b4cf-00b3eb39efbc",
   "metadata": {},
   "outputs": [],
   "source": [
    "import pandas as pd\n",
    "import matplotlib.pyplot as plt\n",
    "import seaborn as sns"
   ]
  },
  {
   "cell_type": "code",
   "execution_count": 2,
   "id": "6e6b9b24-2913-4100-a84f-4f4524be5324",
   "metadata": {},
   "outputs": [
    {
     "data": {
      "text/html": [
       "<div>\n",
       "<style scoped>\n",
       "    .dataframe tbody tr th:only-of-type {\n",
       "        vertical-align: middle;\n",
       "    }\n",
       "\n",
       "    .dataframe tbody tr th {\n",
       "        vertical-align: top;\n",
       "    }\n",
       "\n",
       "    .dataframe thead th {\n",
       "        text-align: right;\n",
       "    }\n",
       "</style>\n",
       "<table border=\"1\" class=\"dataframe\">\n",
       "  <thead>\n",
       "    <tr style=\"text-align: right;\">\n",
       "      <th></th>\n",
       "      <th>Country</th>\n",
       "      <th>Balance</th>\n",
       "      <th>Product</th>\n",
       "      <th>Value</th>\n",
       "      <th>Month</th>\n",
       "      <th>Date</th>\n",
       "    </tr>\n",
       "  </thead>\n",
       "  <tbody>\n",
       "    <tr>\n",
       "      <th>0</th>\n",
       "      <td>Australia</td>\n",
       "      <td>Net Electricity Production</td>\n",
       "      <td>Electricity</td>\n",
       "      <td>23130.2764</td>\n",
       "      <td>Mar</td>\n",
       "      <td>24</td>\n",
       "    </tr>\n",
       "    <tr>\n",
       "      <th>1</th>\n",
       "      <td>Australia</td>\n",
       "      <td>Net Electricity Production</td>\n",
       "      <td>Total Combustible Fuels</td>\n",
       "      <td>14353.8714</td>\n",
       "      <td>Mar</td>\n",
       "      <td>24</td>\n",
       "    </tr>\n",
       "    <tr>\n",
       "      <th>2</th>\n",
       "      <td>Australia</td>\n",
       "      <td>Net Electricity Production</td>\n",
       "      <td>Coal, Peat and Manufactured Gases</td>\n",
       "      <td>10304.7825</td>\n",
       "      <td>Mar</td>\n",
       "      <td>24</td>\n",
       "    </tr>\n",
       "    <tr>\n",
       "      <th>3</th>\n",
       "      <td>Australia</td>\n",
       "      <td>Net Electricity Production</td>\n",
       "      <td>Oil and Petroleum Products</td>\n",
       "      <td>330.5351</td>\n",
       "      <td>Mar</td>\n",
       "      <td>24</td>\n",
       "    </tr>\n",
       "    <tr>\n",
       "      <th>4</th>\n",
       "      <td>Australia</td>\n",
       "      <td>Net Electricity Production</td>\n",
       "      <td>Natural Gas</td>\n",
       "      <td>3492.4621</td>\n",
       "      <td>Mar</td>\n",
       "      <td>24</td>\n",
       "    </tr>\n",
       "  </tbody>\n",
       "</table>\n",
       "</div>"
      ],
      "text/plain": [
       "     Country                     Balance                            Product  \\\n",
       "0  Australia  Net Electricity Production                        Electricity   \n",
       "1  Australia  Net Electricity Production            Total Combustible Fuels   \n",
       "2  Australia  Net Electricity Production  Coal, Peat and Manufactured Gases   \n",
       "3  Australia  Net Electricity Production         Oil and Petroleum Products   \n",
       "4  Australia  Net Electricity Production                        Natural Gas   \n",
       "\n",
       "        Value Month  Date  \n",
       "0  23130.2764   Mar    24  \n",
       "1  14353.8714   Mar    24  \n",
       "2  10304.7825   Mar    24  \n",
       "3    330.5351   Mar    24  \n",
       "4   3492.4621   Mar    24  "
      ]
     },
     "execution_count": 2,
     "metadata": {},
     "output_type": "execute_result"
    }
   ],
   "source": [
    "df=pd.read_csv(\"Cleaned1.csv\")\n",
    "df.head()"
   ]
  },
  {
   "cell_type": "code",
   "execution_count": 3,
   "id": "2262fea1",
   "metadata": {},
   "outputs": [],
   "source": [
    "from sklearn.preprocessing import LabelEncoder\n",
    "import pandas as pd\n",
    "import joblib\n",
    "from sklearn.model_selection import train_test_split\n",
    "from sklearn.preprocessing import StandardScaler\n",
    "from sklearn.ensemble import RandomForestRegressor"
   ]
  },
  {
   "cell_type": "code",
   "execution_count": 4,
   "id": "b2b02ebf",
   "metadata": {},
   "outputs": [],
   "source": [
    "country_encoder = LabelEncoder().fit(df['Country'])\n",
    "balance_encoder = LabelEncoder().fit(df['Balance'])\n",
    "product_encoder = LabelEncoder().fit(df['Product'])\n",
    "month_encoder = LabelEncoder().fit(df['Month'])"
   ]
  },
  {
   "cell_type": "code",
   "execution_count": 5,
   "id": "aacf06b4",
   "metadata": {},
   "outputs": [],
   "source": [
    "# Transform df\n",
    "df['Country'] = country_encoder.transform(df['Country'])\n",
    "df['Balance'] = balance_encoder.transform(df['Balance'])\n",
    "df['Product'] = product_encoder.transform(df['Product'])\n",
    "df['Month'] = month_encoder.transform(df['Month'])"
   ]
  },
  {
   "cell_type": "code",
   "execution_count": 6,
   "id": "c4b65e3f",
   "metadata": {},
   "outputs": [
    {
     "data": {
      "text/plain": [
       "['month_encoder.pkl']"
      ]
     },
     "execution_count": 6,
     "metadata": {},
     "output_type": "execute_result"
    }
   ],
   "source": [
    "# # Save the encoders for future use\n",
    "joblib.dump(country_encoder, 'country_encoder.pkl')\n",
    "joblib.dump(balance_encoder, 'balance_encoder.pkl')\n",
    "joblib.dump(product_encoder, 'product_encoder.pkl')\n",
    "joblib.dump(month_encoder, 'month_encoder.pkl')"
   ]
  },
  {
   "cell_type": "markdown",
   "id": "3484b4a8",
   "metadata": {
    "jp-MarkdownHeadingCollapsed": true
   },
   "source": [
    "## SPLIT THE DATA FRAME "
   ]
  },
  {
   "cell_type": "code",
   "execution_count": 7,
   "id": "e61648e0",
   "metadata": {},
   "outputs": [
    {
     "data": {
      "text/html": [
       "<div>\n",
       "<style scoped>\n",
       "    .dataframe tbody tr th:only-of-type {\n",
       "        vertical-align: middle;\n",
       "    }\n",
       "\n",
       "    .dataframe tbody tr th {\n",
       "        vertical-align: top;\n",
       "    }\n",
       "\n",
       "    .dataframe thead th {\n",
       "        text-align: right;\n",
       "    }\n",
       "</style>\n",
       "<table border=\"1\" class=\"dataframe\">\n",
       "  <thead>\n",
       "    <tr style=\"text-align: right;\">\n",
       "      <th></th>\n",
       "      <th>Country</th>\n",
       "      <th>Balance</th>\n",
       "      <th>Product</th>\n",
       "      <th>Value</th>\n",
       "      <th>Month</th>\n",
       "      <th>Date</th>\n",
       "    </tr>\n",
       "  </thead>\n",
       "  <tbody>\n",
       "    <tr>\n",
       "      <th>0</th>\n",
       "      <td>1</td>\n",
       "      <td>2</td>\n",
       "      <td>2</td>\n",
       "      <td>23130.2764</td>\n",
       "      <td>7</td>\n",
       "      <td>24</td>\n",
       "    </tr>\n",
       "    <tr>\n",
       "      <th>1</th>\n",
       "      <td>1</td>\n",
       "      <td>2</td>\n",
       "      <td>12</td>\n",
       "      <td>14353.8714</td>\n",
       "      <td>7</td>\n",
       "      <td>24</td>\n",
       "    </tr>\n",
       "    <tr>\n",
       "      <th>2</th>\n",
       "      <td>1</td>\n",
       "      <td>2</td>\n",
       "      <td>0</td>\n",
       "      <td>10304.7825</td>\n",
       "      <td>7</td>\n",
       "      <td>24</td>\n",
       "    </tr>\n",
       "    <tr>\n",
       "      <th>3</th>\n",
       "      <td>1</td>\n",
       "      <td>2</td>\n",
       "      <td>8</td>\n",
       "      <td>330.5351</td>\n",
       "      <td>7</td>\n",
       "      <td>24</td>\n",
       "    </tr>\n",
       "    <tr>\n",
       "      <th>4</th>\n",
       "      <td>1</td>\n",
       "      <td>2</td>\n",
       "      <td>5</td>\n",
       "      <td>3492.4621</td>\n",
       "      <td>7</td>\n",
       "      <td>24</td>\n",
       "    </tr>\n",
       "    <tr>\n",
       "      <th>...</th>\n",
       "      <td>...</td>\n",
       "      <td>...</td>\n",
       "      <td>...</td>\n",
       "      <td>...</td>\n",
       "      <td>...</td>\n",
       "      <td>...</td>\n",
       "    </tr>\n",
       "    <tr>\n",
       "      <th>140480</th>\n",
       "      <td>19</td>\n",
       "      <td>4</td>\n",
       "      <td>2</td>\n",
       "      <td>34846.5580</td>\n",
       "      <td>4</td>\n",
       "      <td>10</td>\n",
       "    </tr>\n",
       "    <tr>\n",
       "      <th>140481</th>\n",
       "      <td>19</td>\n",
       "      <td>3</td>\n",
       "      <td>2</td>\n",
       "      <td>32372.5830</td>\n",
       "      <td>4</td>\n",
       "      <td>10</td>\n",
       "    </tr>\n",
       "    <tr>\n",
       "      <th>140482</th>\n",
       "      <td>19</td>\n",
       "      <td>5</td>\n",
       "      <td>2</td>\n",
       "      <td>6869.2530</td>\n",
       "      <td>4</td>\n",
       "      <td>10</td>\n",
       "    </tr>\n",
       "    <tr>\n",
       "      <th>140483</th>\n",
       "      <td>19</td>\n",
       "      <td>0</td>\n",
       "      <td>2</td>\n",
       "      <td>62000.7330</td>\n",
       "      <td>4</td>\n",
       "      <td>10</td>\n",
       "    </tr>\n",
       "    <tr>\n",
       "      <th>140484</th>\n",
       "      <td>19</td>\n",
       "      <td>1</td>\n",
       "      <td>2</td>\n",
       "      <td>877213.6150</td>\n",
       "      <td>4</td>\n",
       "      <td>10</td>\n",
       "    </tr>\n",
       "  </tbody>\n",
       "</table>\n",
       "<p>140485 rows × 6 columns</p>\n",
       "</div>"
      ],
      "text/plain": [
       "        Country  Balance  Product        Value  Month  Date\n",
       "0             1        2        2   23130.2764      7    24\n",
       "1             1        2       12   14353.8714      7    24\n",
       "2             1        2        0   10304.7825      7    24\n",
       "3             1        2        8     330.5351      7    24\n",
       "4             1        2        5    3492.4621      7    24\n",
       "...         ...      ...      ...          ...    ...   ...\n",
       "140480       19        4        2   34846.5580      4    10\n",
       "140481       19        3        2   32372.5830      4    10\n",
       "140482       19        5        2    6869.2530      4    10\n",
       "140483       19        0        2   62000.7330      4    10\n",
       "140484       19        1        2  877213.6150      4    10\n",
       "\n",
       "[140485 rows x 6 columns]"
      ]
     },
     "execution_count": 7,
     "metadata": {},
     "output_type": "execute_result"
    }
   ],
   "source": [
    "df"
   ]
  },
  {
   "cell_type": "code",
   "execution_count": 8,
   "id": "9bb33939-3783-49ff-9995-b4195a0fdc88",
   "metadata": {},
   "outputs": [],
   "source": [
    "# split dataframe...\n",
    "df1 = df[df['Balance'] == 2]"
   ]
  },
  {
   "cell_type": "code",
   "execution_count": 9,
   "id": "aa109dd5-1c03-43fe-b3e1-8c5000d269cc",
   "metadata": {},
   "outputs": [],
   "source": [
    "df2 = df[df['Balance'] != 2]"
   ]
  },
  {
   "cell_type": "code",
   "execution_count": 10,
   "id": "584ef5af-3382-4965-b25b-b08e2b84db0e",
   "metadata": {},
   "outputs": [],
   "source": [
    "dff1 = df1 # Copying dataframe which having 'Balance' == 'Net Electricity Production'\n",
    "dff2 = df2 # Copying dataframe which having 'Balance' != 'Net Electricity Production'\n",
    "\n",
    "# For self security  (-;"
   ]
  },
  {
   "cell_type": "code",
   "execution_count": null,
   "id": "e96385df",
   "metadata": {},
   "outputs": [],
   "source": []
  },
  {
   "cell_type": "code",
   "execution_count": 11,
   "id": "a8f77ef6-ae8d-4d29-a846-125faa68b823",
   "metadata": {},
   "outputs": [
    {
     "data": {
      "text/plain": [
       "['Model_1.pkl']"
      ]
     },
     "execution_count": 11,
     "metadata": {},
     "output_type": "execute_result"
    }
   ],
   "source": [
    "# Model training for df1\n",
    "x = dff1.drop(columns=['Value'], axis=1)\n",
    "y = dff1['Value']\n",
    "x_train, x_test, y_train, y_test = train_test_split(x, y, test_size=0.2, random_state=3)\n",
    "\n",
    "# Standard Scaler Transform\n",
    "sc = StandardScaler()\n",
    "x_train = sc.fit_transform(x_train)\n",
    "x_test = sc.transform(x_test)\n",
    "\n",
    "model1 = RandomForestRegressor(n_estimators=100)\n",
    "model1.fit(x_train, y_train)\n",
    "joblib.dump(model1, 'Model_1.pkl')"
   ]
  },
  {
   "cell_type": "code",
   "execution_count": 12,
   "id": "a27dce01-9132-4aa6-8feb-a69b499607f9",
   "metadata": {},
   "outputs": [
    {
     "data": {
      "text/plain": [
       "['Model_2.pkl']"
      ]
     },
     "execution_count": 12,
     "metadata": {},
     "output_type": "execute_result"
    }
   ],
   "source": [
    "# Model training for df2\n",
    "p = dff2.drop(columns=['Value'], axis=1)\n",
    "q = dff2['Value']\n",
    "p_train, p_test, q_train, q_test = train_test_split(p, q, test_size=0.3, random_state=3)\n",
    "\n",
    "# Standard Scaler Transform\n",
    "p_train = sc.fit_transform(p_train)\n",
    "p_test = sc.transform(p_test)\n",
    "\n",
    "model2 = RandomForestRegressor(n_estimators=100)\n",
    "model2.fit(p_train, q_train)\n",
    "joblib.dump(model2, 'Model_2.pkl')"
   ]
  },
  {
   "cell_type": "markdown",
   "id": "7c0915ac-b886-4c79-8c06-b81b0a664133",
   "metadata": {
    "jp-MarkdownHeadingCollapsed": true
   },
   "source": [
    "## Taking Example"
   ]
  },
  {
   "cell_type": "code",
   "execution_count": 16,
   "id": "280b6a3c-34ac-4092-9acf-826e96bd5a3c",
   "metadata": {},
   "outputs": [
    {
     "name": "stdout",
     "output_type": "stream",
     "text": [
      "The predicted price is: 29471.52699700001\n"
     ]
    }
   ],
   "source": [
    "# Prediction Example\n",
    "# Example input\n",
    "input_data = [['Austria', 'Total Exports', 'Natural Gas', 'Mar', 24]]\n",
    "\n",
    "# Load the encoders\n",
    "country_encoder = joblib.load('country_encoder.pkl')\n",
    "balance_encoder = joblib.load('balance_encoder.pkl')\n",
    "product_encoder = joblib.load('product_encoder.pkl')\n",
    "month_encoder = joblib.load('month_encoder.pkl')\n",
    "\n",
    "# Create a DataFrame for the input data\n",
    "input_df = pd.DataFrame(input_data, columns=['Country', 'Balance', 'Product', 'Month', 'Data'])\n",
    "\n",
    "# Encode the input data\n",
    "input_df['Country'] = country_encoder.transform(input_df['Country'])\n",
    "input_df['Balance'] = balance_encoder.transform(input_df['Balance'])\n",
    "input_df['Product'] = product_encoder.transform(input_df['Product'])\n",
    "input_df['Month'] = month_encoder.transform(input_df['Month'])\n",
    "\n",
    "# Extract the features\n",
    "input_features = input_df[['Country', 'Balance', 'Product', 'Month', 'Data']].values\n",
    "\n",
    "# Load the trained model\n",
    "model = joblib.load('model_1.pkl')  # Use model_2.pkl if appropriate\n",
    "\n",
    "# Make a prediction\n",
    "predicted_price = model.predict(input_features)\n",
    "print(f\"The predicted price is: {predicted_price[0]}\")"
   ]
  },
  {
   "cell_type": "code",
   "execution_count": 17,
   "id": "9f070820-10c3-47c6-8ae6-c496c151fdd2",
   "metadata": {},
   "outputs": [
    {
     "name": "stdout",
     "output_type": "stream",
     "text": [
      "The predicted price is: 2730.3066419999996\n"
     ]
    }
   ],
   "source": [
    "input_data = [['Austria', 'Net Electricity Production', 'Natural Gas', 'Mar', 24]]\n",
    "\n",
    "# Load the encoders\n",
    "country_encoder = joblib.load('country_encoder.pkl')\n",
    "balance_encoder = joblib.load('balance_encoder.pkl')\n",
    "product_encoder = joblib.load('product_encoder.pkl')\n",
    "month_encoder = joblib.load('month_encoder.pkl')\n",
    "\n",
    "# Create a DataFrame for the input data\n",
    "input_df = pd.DataFrame(input_data, columns=['Country', 'Balance', 'Product', 'Month', 'Data'])\n",
    "\n",
    "# Encode the input data\n",
    "input_df['Country'] = country_encoder.transform(input_df['Country'])\n",
    "input_df['Balance'] = balance_encoder.transform(input_df['Balance'])\n",
    "input_df['Product'] = product_encoder.transform(input_df['Product'])\n",
    "input_df['Month'] = month_encoder.transform(input_df['Month'])\n",
    "\n",
    "# Extract the features\n",
    "input_features = input_df[['Country', 'Balance', 'Product', 'Month', 'Data']].values\n",
    "\n",
    "# Load the trained model\n",
    "model = joblib.load('model_2.pkl')  # Use model_2.pkl if appropriate\n",
    "\n",
    "# Make a prediction\n",
    "predicted_price = model.predict(input_features)\n",
    "print(f\"The predicted price is: {predicted_price[0]}\")"
   ]
  }
 ],
 "metadata": {
  "kernelspec": {
   "display_name": "Python 3 (ipykernel)",
   "language": "python",
   "name": "python3"
  },
  "language_info": {
   "codemirror_mode": {
    "name": "ipython",
    "version": 3
   },
   "file_extension": ".py",
   "mimetype": "text/x-python",
   "name": "python",
   "nbconvert_exporter": "python",
   "pygments_lexer": "ipython3",
   "version": "3.12.3"
  }
 },
 "nbformat": 4,
 "nbformat_minor": 5
}
