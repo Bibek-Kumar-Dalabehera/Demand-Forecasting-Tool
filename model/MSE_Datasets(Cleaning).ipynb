{
 "cells": [
  {
   "cell_type": "markdown",
   "id": "5bf15440-8e06-4e77-bcec-8ff681ac07af",
   "metadata": {
    "jp-MarkdownHeadingCollapsed": true
   },
   "source": [
    "## MSE Data Cleaning"
   ]
  },
  {
   "cell_type": "markdown",
   "id": "e0d48dde-083e-4afa-aa4d-36b4c748c61c",
   "metadata": {
    "jp-MarkdownHeadingCollapsed": true
   },
   "source": [
    "### Importing Libraries"
   ]
  },
  {
   "cell_type": "code",
   "execution_count": 1,
   "id": "afc310b1-842a-4023-974e-da6040b5e45b",
   "metadata": {},
   "outputs": [],
   "source": [
    "import pandas as pd\n",
    "import matplotlib.pyplot as plt\n",
    "import seaborn as sns"
   ]
  },
  {
   "cell_type": "markdown",
   "id": "70c2a848-f5d4-4ace-ad58-7de564b0f787",
   "metadata": {
    "jp-MarkdownHeadingCollapsed": true
   },
   "source": [
    "### Reding Datasets"
   ]
  },
  {
   "cell_type": "code",
   "execution_count": 2,
   "id": "4f9343f2-69ec-446d-b3f0-73a57c3eb528",
   "metadata": {
    "scrolled": true
   },
   "outputs": [
    {
     "data": {
      "text/html": [
       "<div>\n",
       "<style scoped>\n",
       "    .dataframe tbody tr th:only-of-type {\n",
       "        vertical-align: middle;\n",
       "    }\n",
       "\n",
       "    .dataframe tbody tr th {\n",
       "        vertical-align: top;\n",
       "    }\n",
       "\n",
       "    .dataframe thead th {\n",
       "        text-align: right;\n",
       "    }\n",
       "</style>\n",
       "<table border=\"1\" class=\"dataframe\">\n",
       "  <thead>\n",
       "    <tr style=\"text-align: right;\">\n",
       "      <th></th>\n",
       "      <th>Country</th>\n",
       "      <th>Time</th>\n",
       "      <th>Balance</th>\n",
       "      <th>Product</th>\n",
       "      <th>Value</th>\n",
       "      <th>Unit</th>\n",
       "    </tr>\n",
       "  </thead>\n",
       "  <tbody>\n",
       "    <tr>\n",
       "      <th>0</th>\n",
       "      <td>Australia</td>\n",
       "      <td>Mar-24</td>\n",
       "      <td>Net Electricity Production</td>\n",
       "      <td>Electricity</td>\n",
       "      <td>23130.2764</td>\n",
       "      <td>GWh</td>\n",
       "    </tr>\n",
       "    <tr>\n",
       "      <th>1</th>\n",
       "      <td>Australia</td>\n",
       "      <td>Mar-24</td>\n",
       "      <td>Net Electricity Production</td>\n",
       "      <td>Total Combustible Fuels</td>\n",
       "      <td>14353.8714</td>\n",
       "      <td>GWh</td>\n",
       "    </tr>\n",
       "    <tr>\n",
       "      <th>2</th>\n",
       "      <td>Australia</td>\n",
       "      <td>Mar-24</td>\n",
       "      <td>Net Electricity Production</td>\n",
       "      <td>Coal, Peat and Manufactured Gases</td>\n",
       "      <td>10304.7825</td>\n",
       "      <td>GWh</td>\n",
       "    </tr>\n",
       "    <tr>\n",
       "      <th>3</th>\n",
       "      <td>Australia</td>\n",
       "      <td>Mar-24</td>\n",
       "      <td>Net Electricity Production</td>\n",
       "      <td>Oil and Petroleum Products</td>\n",
       "      <td>330.5351</td>\n",
       "      <td>GWh</td>\n",
       "    </tr>\n",
       "    <tr>\n",
       "      <th>4</th>\n",
       "      <td>Australia</td>\n",
       "      <td>Mar-24</td>\n",
       "      <td>Net Electricity Production</td>\n",
       "      <td>Natural Gas</td>\n",
       "      <td>3492.4621</td>\n",
       "      <td>GWh</td>\n",
       "    </tr>\n",
       "  </tbody>\n",
       "</table>\n",
       "</div>"
      ],
      "text/plain": [
       "     Country    Time                     Balance  \\\n",
       "0  Australia  Mar-24  Net Electricity Production   \n",
       "1  Australia  Mar-24  Net Electricity Production   \n",
       "2  Australia  Mar-24  Net Electricity Production   \n",
       "3  Australia  Mar-24  Net Electricity Production   \n",
       "4  Australia  Mar-24  Net Electricity Production   \n",
       "\n",
       "                             Product       Value Unit  \n",
       "0                        Electricity  23130.2764  GWh  \n",
       "1            Total Combustible Fuels  14353.8714  GWh  \n",
       "2  Coal, Peat and Manufactured Gases  10304.7825  GWh  \n",
       "3         Oil and Petroleum Products    330.5351  GWh  \n",
       "4                        Natural Gas   3492.4621  GWh  "
      ]
     },
     "execution_count": 2,
     "metadata": {},
     "output_type": "execute_result"
    }
   ],
   "source": [
    "df=pd.read_csv(\"MES_0324.csv\")\n",
    "df.head()"
   ]
  },
  {
   "cell_type": "code",
   "execution_count": 3,
   "id": "1d9de6d4-c78e-44fb-b144-534073a6a625",
   "metadata": {
    "scrolled": true
   },
   "outputs": [
    {
     "data": {
      "text/plain": [
       "(140988, 6)"
      ]
     },
     "execution_count": 3,
     "metadata": {},
     "output_type": "execute_result"
    }
   ],
   "source": [
    "df.shape"
   ]
  },
  {
   "cell_type": "markdown",
   "id": "b33c6859-77ce-4409-b261-49e970dc2dd6",
   "metadata": {
    "jp-MarkdownHeadingCollapsed": true
   },
   "source": [
    "### Data Cleaning"
   ]
  },
  {
   "cell_type": "code",
   "execution_count": 4,
   "id": "0cd1a865-6d47-4328-9eca-db6ce51951b9",
   "metadata": {},
   "outputs": [
    {
     "data": {
      "text/plain": [
       "Country     0\n",
       "Time        0\n",
       "Balance     0\n",
       "Product     0\n",
       "Value      18\n",
       "Unit        0\n",
       "dtype: int64"
      ]
     },
     "execution_count": 4,
     "metadata": {},
     "output_type": "execute_result"
    }
   ],
   "source": [
    "df.isna().sum()"
   ]
  },
  {
   "cell_type": "code",
   "execution_count": 5,
   "id": "afd8bd4e-69db-4027-ba27-2c96e9c799db",
   "metadata": {},
   "outputs": [
    {
     "data": {
      "text/plain": [
       "Country     object\n",
       "Time        object\n",
       "Balance     object\n",
       "Product     object\n",
       "Value      float64\n",
       "Unit        object\n",
       "dtype: object"
      ]
     },
     "execution_count": 5,
     "metadata": {},
     "output_type": "execute_result"
    }
   ],
   "source": [
    "df.dtypes"
   ]
  },
  {
   "cell_type": "code",
   "execution_count": 6,
   "id": "18e01cf5-4708-4559-8926-9c1a4105fd6a",
   "metadata": {},
   "outputs": [
    {
     "data": {
      "text/html": [
       "<div>\n",
       "<style scoped>\n",
       "    .dataframe tbody tr th:only-of-type {\n",
       "        vertical-align: middle;\n",
       "    }\n",
       "\n",
       "    .dataframe tbody tr th {\n",
       "        vertical-align: top;\n",
       "    }\n",
       "\n",
       "    .dataframe thead th {\n",
       "        text-align: right;\n",
       "    }\n",
       "</style>\n",
       "<table border=\"1\" class=\"dataframe\">\n",
       "  <thead>\n",
       "    <tr style=\"text-align: right;\">\n",
       "      <th></th>\n",
       "      <th>Country</th>\n",
       "      <th>Time</th>\n",
       "      <th>Balance</th>\n",
       "      <th>Product</th>\n",
       "      <th>Value</th>\n",
       "      <th>Unit</th>\n",
       "    </tr>\n",
       "  </thead>\n",
       "  <tbody>\n",
       "    <tr>\n",
       "      <th>count</th>\n",
       "      <td>140988</td>\n",
       "      <td>140988</td>\n",
       "      <td>140988</td>\n",
       "      <td>140988</td>\n",
       "      <td>1.409700e+05</td>\n",
       "      <td>140988</td>\n",
       "    </tr>\n",
       "    <tr>\n",
       "      <th>unique</th>\n",
       "      <td>53</td>\n",
       "      <td>171</td>\n",
       "      <td>7</td>\n",
       "      <td>16</td>\n",
       "      <td>NaN</td>\n",
       "      <td>1</td>\n",
       "    </tr>\n",
       "    <tr>\n",
       "      <th>top</th>\n",
       "      <td>IEA Total</td>\n",
       "      <td>Mar-21</td>\n",
       "      <td>Net Electricity Production</td>\n",
       "      <td>Electricity</td>\n",
       "      <td>NaN</td>\n",
       "      <td>GWh</td>\n",
       "    </tr>\n",
       "    <tr>\n",
       "      <th>freq</th>\n",
       "      <td>3420</td>\n",
       "      <td>998</td>\n",
       "      <td>108526</td>\n",
       "      <td>40667</td>\n",
       "      <td>NaN</td>\n",
       "      <td>140988</td>\n",
       "    </tr>\n",
       "    <tr>\n",
       "      <th>mean</th>\n",
       "      <td>NaN</td>\n",
       "      <td>NaN</td>\n",
       "      <td>NaN</td>\n",
       "      <td>NaN</td>\n",
       "      <td>1.863672e+04</td>\n",
       "      <td>NaN</td>\n",
       "    </tr>\n",
       "    <tr>\n",
       "      <th>std</th>\n",
       "      <td>NaN</td>\n",
       "      <td>NaN</td>\n",
       "      <td>NaN</td>\n",
       "      <td>NaN</td>\n",
       "      <td>7.921900e+04</td>\n",
       "      <td>NaN</td>\n",
       "    </tr>\n",
       "    <tr>\n",
       "      <th>min</th>\n",
       "      <td>NaN</td>\n",
       "      <td>NaN</td>\n",
       "      <td>NaN</td>\n",
       "      <td>NaN</td>\n",
       "      <td>0.000000e+00</td>\n",
       "      <td>NaN</td>\n",
       "    </tr>\n",
       "    <tr>\n",
       "      <th>25%</th>\n",
       "      <td>NaN</td>\n",
       "      <td>NaN</td>\n",
       "      <td>NaN</td>\n",
       "      <td>NaN</td>\n",
       "      <td>6.173750e+01</td>\n",
       "      <td>NaN</td>\n",
       "    </tr>\n",
       "    <tr>\n",
       "      <th>50%</th>\n",
       "      <td>NaN</td>\n",
       "      <td>NaN</td>\n",
       "      <td>NaN</td>\n",
       "      <td>NaN</td>\n",
       "      <td>6.951661e+02</td>\n",
       "      <td>NaN</td>\n",
       "    </tr>\n",
       "    <tr>\n",
       "      <th>75%</th>\n",
       "      <td>NaN</td>\n",
       "      <td>NaN</td>\n",
       "      <td>NaN</td>\n",
       "      <td>NaN</td>\n",
       "      <td>4.347985e+03</td>\n",
       "      <td>NaN</td>\n",
       "    </tr>\n",
       "    <tr>\n",
       "      <th>max</th>\n",
       "      <td>NaN</td>\n",
       "      <td>NaN</td>\n",
       "      <td>NaN</td>\n",
       "      <td>NaN</td>\n",
       "      <td>1.004657e+06</td>\n",
       "      <td>NaN</td>\n",
       "    </tr>\n",
       "  </tbody>\n",
       "</table>\n",
       "</div>"
      ],
      "text/plain": [
       "          Country    Time                     Balance      Product  \\\n",
       "count      140988  140988                      140988       140988   \n",
       "unique         53     171                           7           16   \n",
       "top     IEA Total  Mar-21  Net Electricity Production  Electricity   \n",
       "freq         3420     998                      108526        40667   \n",
       "mean          NaN     NaN                         NaN          NaN   \n",
       "std           NaN     NaN                         NaN          NaN   \n",
       "min           NaN     NaN                         NaN          NaN   \n",
       "25%           NaN     NaN                         NaN          NaN   \n",
       "50%           NaN     NaN                         NaN          NaN   \n",
       "75%           NaN     NaN                         NaN          NaN   \n",
       "max           NaN     NaN                         NaN          NaN   \n",
       "\n",
       "               Value    Unit  \n",
       "count   1.409700e+05  140988  \n",
       "unique           NaN       1  \n",
       "top              NaN     GWh  \n",
       "freq             NaN  140988  \n",
       "mean    1.863672e+04     NaN  \n",
       "std     7.921900e+04     NaN  \n",
       "min     0.000000e+00     NaN  \n",
       "25%     6.173750e+01     NaN  \n",
       "50%     6.951661e+02     NaN  \n",
       "75%     4.347985e+03     NaN  \n",
       "max     1.004657e+06     NaN  "
      ]
     },
     "execution_count": 6,
     "metadata": {},
     "output_type": "execute_result"
    }
   ],
   "source": [
    "df.describe(include='all')"
   ]
  },
  {
   "cell_type": "code",
   "execution_count": 7,
   "id": "f7882b03-b5ac-4f11-b87a-2f20534e6bdc",
   "metadata": {},
   "outputs": [
    {
     "name": "stderr",
     "output_type": "stream",
     "text": [
      "C:\\Users\\bdala\\AppData\\Local\\Temp\\ipykernel_12260\\2950225871.py:1: FutureWarning: A value is trying to be set on a copy of a DataFrame or Series through chained assignment using an inplace method.\n",
      "The behavior will change in pandas 3.0. This inplace method will never work because the intermediate object on which we are setting values always behaves as a copy.\n",
      "\n",
      "For example, when doing 'df[col].method(value, inplace=True)', try using 'df.method({col: value}, inplace=True)' or df[col] = df[col].method(value) instead, to perform the operation inplace on the original object.\n",
      "\n",
      "\n",
      "  df['Value'].fillna(1.863672e+04,inplace=True)\n"
     ]
    }
   ],
   "source": [
    "df['Value'].fillna(1.863672e+04,inplace=True)"
   ]
  },
  {
   "cell_type": "code",
   "execution_count": 8,
   "id": "485187ab-c83f-4168-bb19-03773067767c",
   "metadata": {},
   "outputs": [
    {
     "data": {
      "text/plain": [
       "Country    0\n",
       "Time       0\n",
       "Balance    0\n",
       "Product    0\n",
       "Value      0\n",
       "Unit       0\n",
       "dtype: int64"
      ]
     },
     "execution_count": 8,
     "metadata": {},
     "output_type": "execute_result"
    }
   ],
   "source": [
    "df.isna().sum()"
   ]
  },
  {
   "cell_type": "code",
   "execution_count": 9,
   "id": "3c65e998-2db5-4cd6-923d-570050430987",
   "metadata": {},
   "outputs": [
    {
     "data": {
      "text/plain": [
       "Country     object\n",
       "Time        object\n",
       "Balance     object\n",
       "Product     object\n",
       "Value      float64\n",
       "Unit        object\n",
       "dtype: object"
      ]
     },
     "execution_count": 9,
     "metadata": {},
     "output_type": "execute_result"
    }
   ],
   "source": [
    "df.dtypes"
   ]
  },
  {
   "cell_type": "code",
   "execution_count": 10,
   "id": "531a6802-0112-43c3-b6fe-17a19115f408",
   "metadata": {},
   "outputs": [],
   "source": [
    "# Splitng the Time column into month and date column\n",
    "df[['Month', 'Date']] = df['Time'].str.split('-', expand=True)"
   ]
  },
  {
   "cell_type": "code",
   "execution_count": 11,
   "id": "52532d90-e32c-4be2-a8c3-e1ef75664ddf",
   "metadata": {},
   "outputs": [],
   "source": [
    "df = df.drop(['Time'],axis=1)"
   ]
  },
  {
   "cell_type": "code",
   "execution_count": 12,
   "id": "739a5167",
   "metadata": {},
   "outputs": [],
   "source": [
    "df.drop(['Unit'],axis=1,inplace=True)"
   ]
  },
  {
   "cell_type": "code",
   "execution_count": 13,
   "id": "fbee3501-b306-4b2c-b60d-8b8b55cd502e",
   "metadata": {},
   "outputs": [
    {
     "data": {
      "text/html": [
       "<div>\n",
       "<style scoped>\n",
       "    .dataframe tbody tr th:only-of-type {\n",
       "        vertical-align: middle;\n",
       "    }\n",
       "\n",
       "    .dataframe tbody tr th {\n",
       "        vertical-align: top;\n",
       "    }\n",
       "\n",
       "    .dataframe thead th {\n",
       "        text-align: right;\n",
       "    }\n",
       "</style>\n",
       "<table border=\"1\" class=\"dataframe\">\n",
       "  <thead>\n",
       "    <tr style=\"text-align: right;\">\n",
       "      <th></th>\n",
       "      <th>Country</th>\n",
       "      <th>Balance</th>\n",
       "      <th>Product</th>\n",
       "      <th>Value</th>\n",
       "      <th>Month</th>\n",
       "      <th>Date</th>\n",
       "    </tr>\n",
       "  </thead>\n",
       "  <tbody>\n",
       "    <tr>\n",
       "      <th>0</th>\n",
       "      <td>Australia</td>\n",
       "      <td>Net Electricity Production</td>\n",
       "      <td>Electricity</td>\n",
       "      <td>23130.2764</td>\n",
       "      <td>Mar</td>\n",
       "      <td>24</td>\n",
       "    </tr>\n",
       "    <tr>\n",
       "      <th>1</th>\n",
       "      <td>Australia</td>\n",
       "      <td>Net Electricity Production</td>\n",
       "      <td>Total Combustible Fuels</td>\n",
       "      <td>14353.8714</td>\n",
       "      <td>Mar</td>\n",
       "      <td>24</td>\n",
       "    </tr>\n",
       "    <tr>\n",
       "      <th>2</th>\n",
       "      <td>Australia</td>\n",
       "      <td>Net Electricity Production</td>\n",
       "      <td>Coal, Peat and Manufactured Gases</td>\n",
       "      <td>10304.7825</td>\n",
       "      <td>Mar</td>\n",
       "      <td>24</td>\n",
       "    </tr>\n",
       "    <tr>\n",
       "      <th>3</th>\n",
       "      <td>Australia</td>\n",
       "      <td>Net Electricity Production</td>\n",
       "      <td>Oil and Petroleum Products</td>\n",
       "      <td>330.5351</td>\n",
       "      <td>Mar</td>\n",
       "      <td>24</td>\n",
       "    </tr>\n",
       "    <tr>\n",
       "      <th>4</th>\n",
       "      <td>Australia</td>\n",
       "      <td>Net Electricity Production</td>\n",
       "      <td>Natural Gas</td>\n",
       "      <td>3492.4621</td>\n",
       "      <td>Mar</td>\n",
       "      <td>24</td>\n",
       "    </tr>\n",
       "  </tbody>\n",
       "</table>\n",
       "</div>"
      ],
      "text/plain": [
       "     Country                     Balance                            Product  \\\n",
       "0  Australia  Net Electricity Production                        Electricity   \n",
       "1  Australia  Net Electricity Production            Total Combustible Fuels   \n",
       "2  Australia  Net Electricity Production  Coal, Peat and Manufactured Gases   \n",
       "3  Australia  Net Electricity Production         Oil and Petroleum Products   \n",
       "4  Australia  Net Electricity Production                        Natural Gas   \n",
       "\n",
       "        Value Month Date  \n",
       "0  23130.2764   Mar   24  \n",
       "1  14353.8714   Mar   24  \n",
       "2  10304.7825   Mar   24  \n",
       "3    330.5351   Mar   24  \n",
       "4   3492.4621   Mar   24  "
      ]
     },
     "execution_count": 13,
     "metadata": {},
     "output_type": "execute_result"
    }
   ],
   "source": [
    "df.head()"
   ]
  },
  {
   "cell_type": "code",
   "execution_count": 14,
   "id": "d57eb390-e9b4-4113-8e8d-95541bfe0f9c",
   "metadata": {
    "scrolled": true
   },
   "outputs": [
    {
     "name": "stdout",
     "output_type": "stream",
     "text": [
      "Country:\n",
      "['Australia' 'Austria' 'Belgium' 'Canada' 'Chile' 'Colombia' 'Costa Rica'\n",
      " 'Czech Republic' 'Denmark' 'Estonia' 'Finland' 'France' 'Germany'\n",
      " 'Greece' 'Hungary' 'Iceland' 'Ireland' 'Italy' 'Japan' 'Korea' 'Latvia'\n",
      " 'Lithuania' 'Luxembourg' 'Mexico' 'Netherlands' 'New Zealand' 'Norway'\n",
      " 'Poland' 'Portugal' 'Slovak Republic' 'Slovenia' 'Spain' 'Sweden'\n",
      " 'Switzerland' 'Republic of Turkiye' 'United Kingdom' 'United States'\n",
      " 'OECD Americas' 'OECD Asia Oceania' 'OECD Europe' 'OECD Total'\n",
      " 'IEA Total' 'Argentina' 'Brazil' 'Bulgaria' \"People's Republic of China\"\n",
      " 'Croatia' 'Cyprus' 'India' 'Malta' 'North Macedonia' 'Romania' 'Serbia']\n",
      "\n",
      "Balance:\n",
      "['Net Electricity Production' 'Used for pumped storage'\n",
      " 'Distribution Losses' 'Final Consumption (Calculated)' 'Total Imports'\n",
      " 'Total Exports' 'Remarks']\n",
      "\n",
      "Product:\n",
      "['Electricity' 'Total Combustible Fuels'\n",
      " 'Coal, Peat and Manufactured Gases' 'Oil and Petroleum Products'\n",
      " 'Natural Gas' 'Combustible Renewables' 'Hydro' 'Wind' 'Solar'\n",
      " 'Total Renewables (Hydro, Geo, Solar, Wind, Other)'\n",
      " 'Other Combustible Non-Renewables' 'Geothermal' 'Not Specified' 'Nuclear'\n",
      " 'Data is estimated for this month' 'Other Renewables']\n",
      "\n",
      "Value:\n",
      "[ 23130.2764  14353.8714  10304.7825 ...   6869.253   62000.733\n",
      " 877213.615 ]\n",
      "\n",
      "Month:\n",
      "['Mar' 'Feb' 'Jan' 'Dec' 'Nov' 'Oct' 'Sep' 'Aug' 'Jul' 'Jun' 'May' 'Apr']\n",
      "\n",
      "Date:\n",
      "['24' '23' '22' '21' '20' '19' '18' '17' '16' '15' '14' '13' '12' '11'\n",
      " '10']\n",
      "\n"
     ]
    }
   ],
   "source": [
    "for i in df.columns:\n",
    "    print(f'{i}:\\n{df[i].unique()}\\n')"
   ]
  },
  {
   "cell_type": "code",
   "execution_count": 15,
   "id": "e05230ef",
   "metadata": {},
   "outputs": [],
   "source": [
    "df = df[df['Country'] != 'Costa Rica']"
   ]
  },
  {
   "cell_type": "code",
   "execution_count": 16,
   "id": "6a5f6f76-b77f-4de7-b01c-487bb71de1dc",
   "metadata": {
    "scrolled": true
   },
   "outputs": [
    {
     "data": {
      "text/plain": [
       "Country\n",
       "OECD Total                    3420\n",
       "OECD Europe                   3420\n",
       "IEA Total                     3420\n",
       "France                        3408\n",
       "OECD Americas                 3381\n",
       "OECD Asia Oceania             3330\n",
       "United Kingdom                3318\n",
       "United States                 3297\n",
       "Germany                       3284\n",
       "Canada                        3258\n",
       "Republic of Turkiye           3254\n",
       "Portugal                      3182\n",
       "Spain                         3177\n",
       "Czech Republic                3174\n",
       "Belgium                       3174\n",
       "Italy                         3174\n",
       "Austria                       3174\n",
       "Slovak Republic               3147\n",
       "Mexico                        3144\n",
       "Poland                        3123\n",
       "Netherlands                   3116\n",
       "Slovenia                      3070\n",
       "Finland                       3051\n",
       "New Zealand                   3050\n",
       "Sweden                        3046\n",
       "Hungary                       3036\n",
       "Japan                         3029\n",
       "Switzerland                   3024\n",
       "Korea                         3015\n",
       "Norway                        3014\n",
       "Greece                        2939\n",
       "Luxembourg                    2916\n",
       "Ireland                       2904\n",
       "Lithuania                     2879\n",
       "Denmark                       2805\n",
       "Latvia                        2715\n",
       "Estonia                       2697\n",
       "Australia                     2657\n",
       "Chile                         2528\n",
       "Iceland                       2031\n",
       "Colombia                      2005\n",
       "People's Republic of China    1638\n",
       "Brazil                        1584\n",
       "India                         1584\n",
       "Romania                       1523\n",
       "Argentina                     1494\n",
       "Bulgaria                      1472\n",
       "Serbia                        1399\n",
       "Croatia                       1356\n",
       "North Macedonia               1350\n",
       "Cyprus                        1161\n",
       "Malta                         1141\n",
       "Name: count, dtype: int64"
      ]
     },
     "execution_count": 16,
     "metadata": {},
     "output_type": "execute_result"
    }
   ],
   "source": [
    "#For country\n",
    "df['Country'].value_counts()"
   ]
  },
  {
   "cell_type": "code",
   "execution_count": 17,
   "id": "0ae20c9f",
   "metadata": {},
   "outputs": [],
   "source": [
    "# Deleting the unnecessary data of balance column\n",
    "df = df[df['Balance'] != 'Remarks']"
   ]
  },
  {
   "cell_type": "code",
   "execution_count": 18,
   "id": "22f35b11-68ef-4264-9561-ec56ef7027c7",
   "metadata": {},
   "outputs": [
    {
     "data": {
      "text/plain": [
       "Balance\n",
       "Net Electricity Production        108175\n",
       "Distribution Losses                 6963\n",
       "Final Consumption (Calculated)      6963\n",
       "Total Imports                       6312\n",
       "Total Exports                       6301\n",
       "Used for pumped storage             5771\n",
       "Name: count, dtype: int64"
      ]
     },
     "execution_count": 18,
     "metadata": {},
     "output_type": "execute_result"
    }
   ],
   "source": [
    "#For country\n",
    "df['Balance'].value_counts()"
   ]
  },
  {
   "cell_type": "code",
   "execution_count": 19,
   "id": "f2edeb50-8e79-411d-9a65-4dda36861540",
   "metadata": {},
   "outputs": [],
   "source": [
    "# Saving cleaned data into csv file\n",
    "df.to_csv('Cleaned1.csv',index=False)"
   ]
  }
 ],
 "metadata": {
  "kernelspec": {
   "display_name": "Python 3 (ipykernel)",
   "language": "python",
   "name": "python3"
  },
  "language_info": {
   "codemirror_mode": {
    "name": "ipython",
    "version": 3
   },
   "file_extension": ".py",
   "mimetype": "text/x-python",
   "name": "python",
   "nbconvert_exporter": "python",
   "pygments_lexer": "ipython3",
   "version": "3.12.3"
  }
 },
 "nbformat": 4,
 "nbformat_minor": 5
}
